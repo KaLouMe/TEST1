{
    "cells": [
        {
            "cell_type": "code",
            "execution_count": 1,
            "metadata": {},
            "outputs": [
                {
                    "name": "stdout",
                    "output_type": "stream",
                    "text": "+--------------------------------------------------+--------+----+---+------+-----+---+\n|\"E1001,John,Thomas,123456,01/09/1976,M,\"\"5631 Rice| OakPark|IL\"\"|100|100000|30001| 2\"|\n+--------------------------------------------------+--------+----+---+------+-----+---+\n|                              \"E1002,Alice,Jame...|   Elgin|IL\"\"|200| 80000|30002| 5\"|\n|                              \"E1003,Steve,Well...|    Gary|IL\"\"|300| 50000|30002| 5\"|\n|                              \"E1004,Santosh,Ku...|  Aurora|IL\"\"|400| 60000|30004| 5\"|\n|                              \"E1005,Ahmed,Huss...|  Geneva|IL\"\"|500| 70000|30001| 2\"|\n|                              \"E1006,Nancy,Alle...|   Elgin|IL\"\"|600| 90000|30001| 2\"|\n+--------------------------------------------------+--------+----+---+------+-----+---+\nonly showing top 5 rows\n\n"
                },
                {
                    "data": {
                        "text/plain": "configurationName = os_49ce6e7627474d178e35a5a1cac1ce57_configs\ncos = com.ibm.ibmos2spark.CloudObjectStorage@54a63a08\nspark = org.apache.spark.sql.SparkSession@76c0c56\ndfData1 = [\"E1001,John,Thomas,123456,01/09/1976,M,\"\"5631 Rice: string,  OakPark: string ... 5 more fields]\n"
                    },
                    "metadata": {},
                    "output_type": "display_data"
                },
                {
                    "data": {
                        "text/plain": "getCredentials: ()scala.collection.mutable.HashMap[String,String]\n"
                    },
                    "metadata": {},
                    "output_type": "display_data"
                },
                {
                    "data": {
                        "text/plain": "[\"E1001,John,Thomas,123456,01/09/1976,M,\"\"5631 Rice: string,  OakPark: string ... 5 more fields]"
                    },
                    "execution_count": 1,
                    "metadata": {},
                    "output_type": "execute_result"
                }
            ],
            "source": "// The code was removed by Watson Studio for sharing."
        },
        {
            "cell_type": "code",
            "execution_count": null,
            "metadata": {},
            "outputs": [],
            "source": ""
        },
        {
            "cell_type": "code",
            "execution_count": null,
            "metadata": {},
            "outputs": [],
            "source": ""
        },
        {
            "cell_type": "code",
            "execution_count": null,
            "metadata": {},
            "outputs": [],
            "source": ""
        }
    ],
    "metadata": {
        "kernelspec": {
            "display_name": "Scala 2.12 with Spark",
            "language": "scala",
            "name": "scala"
        },
        "language_info": {
            "codemirror_mode": "text/x-scala",
            "file_extension": ".scala",
            "mimetype": "text/x-scala",
            "name": "scala",
            "pygments_lexer": "scala",
            "version": "2.12.12"
        }
    },
    "nbformat": 4,
    "nbformat_minor": 1
}